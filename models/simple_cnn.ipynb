{
 "cells": [
  {
   "cell_type": "code",
   "execution_count": 1,
   "id": "4157d67d",
   "metadata": {},
   "outputs": [],
   "source": [
    "import torch\n",
    "import torch.nn as nn\n",
    "import torch.nn.functional as F\n",
    "import torch.optim as optim\n",
    "from torch.utils.data import DataLoader\n",
    "from torchvision import datasets, transforms\n",
    "import matplotlib.pyplot as plt\n",
    "import numpy as np\n",
    "import torchvision"
   ]
  },
  {
   "cell_type": "code",
   "execution_count": 2,
   "id": "31bb269e",
   "metadata": {},
   "outputs": [],
   "source": [
    "# 数据预处理\n",
    "transform = transforms.Compose([\n",
    "    transforms.ToTensor(),\n",
    "    transforms.Normalize((0.5, 0.5, 0.5), (0.5, 0.5, 0.5))\n",
    "])"
   ]
  },
  {
   "cell_type": "code",
   "execution_count": 3,
   "id": "8c7267e6",
   "metadata": {},
   "outputs": [],
   "source": [
    "# CIFAR-10的类别\n",
    "classes = ('plane', 'car', 'bird', 'cat', 'deer', \n",
    "           'dog', 'frog', 'horse', 'ship', 'truck')"
   ]
  },
  {
   "cell_type": "code",
   "execution_count": 5,
   "id": "6dda5f4e",
   "metadata": {},
   "outputs": [
    {
     "name": "stdout",
     "output_type": "stream",
     "text": [
      "Files already downloaded and verified\n",
      "Files already downloaded and verified\n"
     ]
    }
   ],
   "source": [
    "# 加载数据集\n",
    "trainset = datasets.CIFAR10(root='../data', train=True, download=True, transform=transform)\n",
    "testset = datasets.CIFAR10(root='../data', train=False, download=True, transform=transform)\n"
   ]
  },
  {
   "cell_type": "code",
   "execution_count": null,
   "id": "bd683c11",
   "metadata": {},
   "outputs": [],
   "source": [
    "trainloader = DataLoader(trainset, batch_size=32, shuffle=True, num_workers=16)\n",
    "testloader = DataLoader(testset, batch_size=32, shuffle=False, num_workers=16)"
   ]
  },
  {
   "cell_type": "code",
   "execution_count": 7,
   "id": "696d7e3f",
   "metadata": {},
   "outputs": [],
   "source": [
    "# 定义CNN模型\n",
    "class SimpleCNN(nn.Module):\n",
    "    def __init__(self):\n",
    "        super(SimpleCNN, self).__init__()\n",
    "        self.conv1 = nn.Conv2d(3, 6, 5)\n",
    "        self.pool = nn.MaxPool2d(2, 2)\n",
    "        self.conv2 = nn.Conv2d(6, 16, 5)\n",
    "        self.fc1 = nn.Linear(16 * 5 * 5, 120)\n",
    "        self.fc2 = nn.Linear(120, 84)\n",
    "        self.fc3 = nn.Linear(84, 10)\n",
    "\n",
    "    def forward(self, x):\n",
    "        x = self.pool(F.relu(self.conv1(x)))\n",
    "        x = self.pool(F.relu(self.conv2(x)))\n",
    "        x = x.view(-1, 16 * 5 * 5)\n",
    "        x = F.relu(self.fc1(x))\n",
    "        x = F.relu(self.fc2(x))\n",
    "        x = self.fc3(x)\n",
    "        return x"
   ]
  },
  {
   "cell_type": "code",
   "execution_count": 9,
   "id": "5659cd24",
   "metadata": {},
   "outputs": [
    {
     "name": "stdout",
     "output_type": "stream",
     "text": [
      "SimpleCNN(\n",
      "  (conv1): Conv2d(3, 6, kernel_size=(5, 5), stride=(1, 1))\n",
      "  (pool): MaxPool2d(kernel_size=2, stride=2, padding=0, dilation=1, ceil_mode=False)\n",
      "  (conv2): Conv2d(6, 16, kernel_size=(5, 5), stride=(1, 1))\n",
      "  (fc1): Linear(in_features=400, out_features=120, bias=True)\n",
      "  (fc2): Linear(in_features=120, out_features=84, bias=True)\n",
      "  (fc3): Linear(in_features=84, out_features=10, bias=True)\n",
      ")\n"
     ]
    }
   ],
   "source": [
    "model = SimpleCNN()\n",
    "print(model)"
   ]
  },
  {
   "cell_type": "code",
   "execution_count": 10,
   "id": "620b1b6d",
   "metadata": {},
   "outputs": [],
   "source": [
    "criterion = nn.CrossEntropyLoss()\n",
    "optimizer = optim.SGD(model.parameters(), lr=0.001, momentum=0.9)\n"
   ]
  },
  {
   "cell_type": "code",
   "execution_count": 11,
   "id": "e7c26c3e",
   "metadata": {},
   "outputs": [
    {
     "name": "stdout",
     "output_type": "stream",
     "text": [
      "Epoch 1 finished, Loss: 2.2180, Accuracy: 18.24%\n",
      "Epoch 2 finished, Loss: 1.8030, Accuracy: 33.69%\n",
      "Epoch 3 finished, Loss: 1.5536, Accuracy: 43.43%\n",
      "Epoch 4 finished, Loss: 1.4334, Accuracy: 47.98%\n",
      "Epoch 5 finished, Loss: 1.3476, Accuracy: 51.48%\n",
      "Epoch 6 finished, Loss: 1.2872, Accuracy: 54.07%\n",
      "Epoch 7 finished, Loss: 1.2294, Accuracy: 56.14%\n",
      "Epoch 8 finished, Loss: 1.1843, Accuracy: 58.07%\n",
      "Epoch 9 finished, Loss: 1.1450, Accuracy: 59.53%\n",
      "Epoch 10 finished, Loss: 1.1038, Accuracy: 60.91%\n",
      "Epoch 11 finished, Loss: 1.0714, Accuracy: 62.20%\n",
      "Epoch 12 finished, Loss: 1.0355, Accuracy: 63.36%\n",
      "Epoch 13 finished, Loss: 1.0067, Accuracy: 64.53%\n",
      "Epoch 14 finished, Loss: 0.9764, Accuracy: 65.71%\n",
      "Epoch 15 finished, Loss: 0.9502, Accuracy: 66.66%\n",
      "Epoch 16 finished, Loss: 0.9257, Accuracy: 67.47%\n",
      "Epoch 17 finished, Loss: 0.8984, Accuracy: 68.26%\n",
      "Epoch 18 finished, Loss: 0.8750, Accuracy: 69.40%\n",
      "Epoch 19 finished, Loss: 0.8535, Accuracy: 70.11%\n",
      "Epoch 20 finished, Loss: 0.8299, Accuracy: 71.15%\n",
      "Epoch 21 finished, Loss: 0.8084, Accuracy: 71.57%\n",
      "Epoch 22 finished, Loss: 0.7880, Accuracy: 72.17%\n",
      "Epoch 23 finished, Loss: 0.7699, Accuracy: 73.00%\n",
      "Epoch 24 finished, Loss: 0.7481, Accuracy: 73.81%\n",
      "Epoch 25 finished, Loss: 0.7321, Accuracy: 74.37%\n",
      "Epoch 26 finished, Loss: 0.7129, Accuracy: 74.97%\n",
      "Epoch 27 finished, Loss: 0.6957, Accuracy: 75.59%\n",
      "Epoch 28 finished, Loss: 0.6771, Accuracy: 76.26%\n",
      "Epoch 29 finished, Loss: 0.6614, Accuracy: 76.83%\n",
      "Epoch 30 finished, Loss: 0.6447, Accuracy: 77.49%\n",
      "Epoch 31 finished, Loss: 0.6272, Accuracy: 78.00%\n",
      "Epoch 32 finished, Loss: 0.6122, Accuracy: 78.42%\n",
      "Epoch 33 finished, Loss: 0.5971, Accuracy: 78.93%\n",
      "Epoch 34 finished, Loss: 0.5820, Accuracy: 79.46%\n",
      "Epoch 35 finished, Loss: 0.5676, Accuracy: 79.71%\n",
      "Epoch 36 finished, Loss: 0.5538, Accuracy: 80.55%\n",
      "Epoch 37 finished, Loss: 0.5396, Accuracy: 80.85%\n",
      "Epoch 38 finished, Loss: 0.5235, Accuracy: 81.48%\n",
      "Epoch 39 finished, Loss: 0.5149, Accuracy: 81.65%\n",
      "Epoch 40 finished, Loss: 0.4966, Accuracy: 82.25%\n",
      "Epoch 41 finished, Loss: 0.4894, Accuracy: 82.66%\n",
      "Epoch 42 finished, Loss: 0.4737, Accuracy: 82.95%\n",
      "Epoch 43 finished, Loss: 0.4619, Accuracy: 83.52%\n",
      "Epoch 44 finished, Loss: 0.4503, Accuracy: 83.96%\n",
      "Epoch 45 finished, Loss: 0.4406, Accuracy: 84.22%\n",
      "Epoch 46 finished, Loss: 0.4252, Accuracy: 84.74%\n",
      "Epoch 47 finished, Loss: 0.4177, Accuracy: 85.15%\n",
      "Epoch 48 finished, Loss: 0.4039, Accuracy: 85.65%\n",
      "Epoch 49 finished, Loss: 0.3919, Accuracy: 85.99%\n",
      "Epoch 50 finished, Loss: 0.3805, Accuracy: 86.34%\n",
      "Finished Training\n"
     ]
    }
   ],
   "source": [
    "num_epochs = 50\n",
    "\n",
    "# 记录训练过程中的损失和准确率\n",
    "train_loss_history = []\n",
    "train_acc_history = []\n",
    "\n",
    "# 训练循环\n",
    "for epoch in range(num_epochs):\n",
    "    running_loss = 0.0\n",
    "    correct = 0\n",
    "    total = 0\n",
    "    \n",
    "    for i, data in enumerate(trainloader, 0):\n",
    "        inputs, labels = data\n",
    "        \n",
    "        optimizer.zero_grad()\n",
    "        \n",
    "        outputs = model(inputs)\n",
    "        loss = criterion(outputs, labels)\n",
    "        loss.backward()\n",
    "        optimizer.step()\n",
    "        \n",
    "        running_loss += loss.item()\n",
    "        _, predicted = torch.max(outputs.data, 1)\n",
    "        total += labels.size(0)\n",
    "        correct += (predicted == labels).sum().item()\n",
    "        \n",
    "        if i % 2000 == 1999:\n",
    "            print(f'[{epoch + 1}, {i + 1:5d}] loss: {running_loss / 2000:.3f}')\n",
    "            running_loss = 0.0\n",
    "    \n",
    "    epoch_loss = running_loss / len(trainloader)\n",
    "    epoch_acc = 100 * correct / total\n",
    "    train_loss_history.append(epoch_loss)\n",
    "    train_acc_history.append(epoch_acc)\n",
    "    print(f'Epoch {epoch + 1} finished, Loss: {epoch_loss:.4f}, Accuracy: {epoch_acc:.2f}%')\n",
    "\n",
    "print('Finished Training')"
   ]
  },
  {
   "cell_type": "code",
   "execution_count": null,
   "id": "41e63749",
   "metadata": {},
   "outputs": [
    {
     "name": "stdout",
     "output_type": "stream",
     "text": [
      "Accuracy of the network on the 10000 test images: 63.08%\n"
     ]
    }
   ],
   "source": [
    "correct = 0\n",
    "total = 0\n",
    "with torch.no_grad():\n",
    "    for data in testloader:\n",
    "        images, labels = data\n",
    "        outputs = model(images)\n",
    "        _, predicted = torch.max(outputs.data, 1)\n",
    "        total += labels.size(0)\n",
    "        correct += (predicted == labels).sum().item()\n",
    "\n",
    "print(f'Accuracy of the network on the 10000 test images: {100 * correct / total:.2f}%')"
   ]
  },
  {
   "cell_type": "code",
   "execution_count": 13,
   "id": "f0d735e6",
   "metadata": {},
   "outputs": [],
   "source": [
    "torch.save(model.state_dict(), 'simple_cnn.pth')"
   ]
  },
  {
   "cell_type": "code",
   "execution_count": 14,
   "id": "3c109ceb",
   "metadata": {},
   "outputs": [],
   "source": [
    "import torch\n",
    "import torch.nn as nn\n",
    "from torch.linalg import svdvals\n",
    "\n",
    "def compute_lipschitz_constant(model):\n",
    "    \"\"\"\n",
    "    Compute the Lipschitz constant of a PyTorch model.\n",
    "    Assumes:\n",
    "        - All layers are either Conv2d or Linear (no normalization layers).\n",
    "        - No activation functions (or they are Lipschitz-1 like ReLU).\n",
    "        - Pooling layers (MaxPool, AvgPool) have Lipschitz constant = 1.\n",
    "    Returns:\n",
    "        Lipschitz constant (float)\n",
    "    \"\"\"\n",
    "    lipschitz = 1.0\n",
    "    \n",
    "    for layer in model.modules():\n",
    "        if isinstance(layer, (nn.Conv2d, nn.Linear)):\n",
    "            # Get the weight matrix (for Conv2d, reshape to 2D matrix)\n",
    "            W = layer.weight\n",
    "            \n",
    "            if isinstance(layer, nn.Conv2d):\n",
    "                # For Conv2d, reshape to (out_channels, in_channels * kernel_h * kernel_w)\n",
    "                in_channels = layer.in_channels\n",
    "                out_channels = layer.out_channels\n",
    "                kernel_size = layer.kernel_size\n",
    "                \n",
    "                # Reshape W to (out_channels, in_channels * kernel_h * kernel_w)\n",
    "                W_reshaped = W.view(out_channels, -1)\n",
    "            else:\n",
    "                # For Linear, already in (out_features, in_features)\n",
    "                W_reshaped = W\n",
    "            \n",
    "            # Compute spectral norm (largest singular value)\n",
    "            singular_values = svdvals(W_reshaped)\n",
    "            spectral_norm = singular_values.max().item()\n",
    "            \n",
    "            lipschitz *= spectral_norm\n",
    "    \n",
    "    return lipschitz"
   ]
  },
  {
   "cell_type": "code",
   "execution_count": 15,
   "id": "ee9510e1",
   "metadata": {},
   "outputs": [
    {
     "name": "stdout",
     "output_type": "stream",
     "text": [
      "Lipschitz constant: 259.0588772652261\n"
     ]
    }
   ],
   "source": [
    "# 计算Lipschitz常数\n",
    "lipschitz = compute_lipschitz_constant(model)\n",
    "print(f\"Lipschitz constant: {lipschitz}\")"
   ]
  },
  {
   "cell_type": "markdown",
   "id": "241962d9",
   "metadata": {},
   "source": []
  },
  {
   "cell_type": "markdown",
   "id": "fff9bc30",
   "metadata": {},
   "source": []
  }
 ],
 "metadata": {
  "kernelspec": {
   "display_name": "lipcache",
   "language": "python",
   "name": "python3"
  },
  "language_info": {
   "codemirror_mode": {
    "name": "ipython",
    "version": 3
   },
   "file_extension": ".py",
   "mimetype": "text/x-python",
   "name": "python",
   "nbconvert_exporter": "python",
   "pygments_lexer": "ipython3",
   "version": "3.10.16"
  }
 },
 "nbformat": 4,
 "nbformat_minor": 5
}
